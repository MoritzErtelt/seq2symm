{
 "cells": [
  {
   "cell_type": "code",
   "execution_count": 1,
   "id": "8e8d89ad-b188-4b3f-97a0-a0e1240e8ebf",
   "metadata": {},
   "outputs": [],
   "source": [
    "import argparse\n",
    "import torch\n",
    "import esm\n",
    "from data_loader import TestSequencesLoader, TestFASTALoader\n",
    "import random\n",
    "import numpy as np\n",
    "import pickle"
   ]
  },
  {
   "cell_type": "code",
   "execution_count": 2,
   "id": "eda353d2-9d89-40de-90be-1a3b7e04988b",
   "metadata": {},
   "outputs": [
    {
     "name": "stdout",
     "output_type": "stream",
     "text": [
      "Current device: cuda\n",
      "cuda is available\n"
     ]
    }
   ],
   "source": [
    "from lightning.pytorch import LightningModule\n",
    "from lightning.pytorch import Trainer\n",
    "#from torchmetrics import MetricCollection\n",
    "#from torchmetrics.classification import Precision, Recall, AveragePrecision, ConfusionMatrix, ROC \n",
    "\n",
    "from finetune import ESMFinetuner\n",
    "\n",
    "seed = 12306\n",
    "random.seed(seed)\n",
    "torch.manual_seed(seed)\n",
    "if torch.cuda.is_available():\n",
    "    print('cuda is available')\n",
    "    torch.cuda.manual_seed_all(seed)\n",
    "    \n",
    "torch.set_float32_matmul_precision('medium')"
   ]
  },
  {
   "cell_type": "markdown",
   "id": "94b759fc-ccaf-477c-88a5-191e4d132596",
   "metadata": {},
   "source": [
    "#### Initialize parameters that need to be set for the model to load and predict"
   ]
  },
  {
   "cell_type": "code",
   "execution_count": 3,
   "id": "fddbe07b-1d74-4413-b30f-0ee398c8243a",
   "metadata": {},
   "outputs": [],
   "source": [
    "class Params:\n",
    "    def __init__(self):\n",
    "        self.test_mode = True\n",
    "        self.n_classes = 17\n",
    "        self.granularity = 2\n",
    "        self.bs = 64\n",
    "        self.output_dir = \"./outputs\"\n",
    "        self.suffix = \"seq2symm\"\n",
    "        self.n_epoch = 1\n",
    "        self.num_layers_frozen = 31\n",
    "        self.fasta_file = \"/tmp/seq.fasta\"\n",
    "        self.weighted_sampler = False\n",
    "        self.use_soft_labels = False\n",
    "        self.chkpt_file = \"../../models/jointCoarseFine_wted_oversampled_distilled_marginLoss/epoch=2-step=2037.ckpt\""
   ]
  },
  {
   "cell_type": "markdown",
   "id": "2b3ff0d6-8c63-4ef9-bee0-38830f6269c5",
   "metadata": {},
   "source": [
    "#### Define method that aggregated predictions across batches / multiple gpus"
   ]
  },
  {
   "cell_type": "code",
   "execution_count": 4,
   "id": "b86c667c-7fde-47f9-aa7f-9878c92b47d0",
   "metadata": {},
   "outputs": [],
   "source": [
    "def aggregate_predictions(d):\n",
    "    res_dict = dict()\n",
    "    res=[]\n",
    "    for i in range(len(d)):\n",
    "       res.append(d[i][1])\n",
    "    y_pred=np.row_stack(res)\n",
    "    print(y_pred.shape)\n",
    "    res_dict['y_pred'] = y_pred\n",
    "\n",
    "    res=[]\n",
    "    for i in range(len(d)):\n",
    "       res.append(d[i][2])\n",
    "    y_true=np.row_stack(res)\n",
    "    if y_true.dtype == np.float64:\n",
    "        # Convert to integers\n",
    "        y_true = y_true.astype(np.int64)\n",
    "    res_dict['y_true'] = y_true\n",
    "    \n",
    "    res=[]\n",
    "    for i in range(len(d)):\n",
    "       res=res+d[i][0]\n",
    "    pdbids = res\n",
    "    res_dict['pdbids'] = pdbids\n",
    "\n",
    "    print('Size of predicted logits: ',y_pred.shape,' number of proteins: ',len(pdbids))\n",
    "    return res_dict"
   ]
  },
  {
   "cell_type": "code",
   "execution_count": null,
   "id": "f025c330-9f64-404b-a1cc-90dbe7119c8d",
   "metadata": {},
   "outputs": [],
   "source": []
  },
  {
   "cell_type": "markdown",
   "id": "2ea0282b-065c-419a-83f5-5380902b3e8c",
   "metadata": {},
   "source": [
    "#### initialize model, load model"
   ]
  },
  {
   "cell_type": "code",
   "execution_count": 5,
   "id": "96b1faa8-ad2c-4938-b9ad-a8edc01adb5f",
   "metadata": {},
   "outputs": [
    {
     "name": "stdout",
     "output_type": "stream",
     "text": [
      "Number of parameters being optimized:  39687697\n"
     ]
    }
   ],
   "source": [
    "from finetune import ESMFinetuner\n",
    "\n",
    "params = Params()\n",
    "task = ESMFinetuner(params=params)"
   ]
  },
  {
   "cell_type": "code",
   "execution_count": 6,
   "id": "e5f188e5-e0f6-4847-a2a8-0dcb777276f0",
   "metadata": {},
   "outputs": [
    {
     "name": "stdout",
     "output_type": "stream",
     "text": [
      "Number of parameters being optimized:  39688468\n"
     ]
    },
    {
     "data": {
      "text/plain": [
       "ESMFinetuner(\n",
       "  (model): ESM2(\n",
       "    (embed_tokens): Embedding(33, 1280, padding_idx=1)\n",
       "    (layers): ModuleList(\n",
       "      (0-32): 33 x TransformerLayer(\n",
       "        (self_attn): MultiheadAttention(\n",
       "          (k_proj): Linear(in_features=1280, out_features=1280, bias=True)\n",
       "          (v_proj): Linear(in_features=1280, out_features=1280, bias=True)\n",
       "          (q_proj): Linear(in_features=1280, out_features=1280, bias=True)\n",
       "          (out_proj): Linear(in_features=1280, out_features=1280, bias=True)\n",
       "          (rot_emb): RotaryEmbedding()\n",
       "        )\n",
       "        (self_attn_layer_norm): LayerNorm((1280,), eps=1e-05, elementwise_affine=True)\n",
       "        (fc1): Linear(in_features=1280, out_features=5120, bias=True)\n",
       "        (fc2): Linear(in_features=5120, out_features=1280, bias=True)\n",
       "        (final_layer_norm): LayerNorm((1280,), eps=1e-05, elementwise_affine=True)\n",
       "      )\n",
       "    )\n",
       "    (contact_head): ContactPredictionHead(\n",
       "      (regression): Linear(in_features=660, out_features=1, bias=True)\n",
       "      (activation): Sigmoid()\n",
       "    )\n",
       "    (emb_layer_norm_after): LayerNorm((1280,), eps=1e-05, elementwise_affine=True)\n",
       "    (lm_head): RobertaLMHead(\n",
       "      (dense1): Linear(in_features=1280, out_features=256, bias=True)\n",
       "      (dropout): Dropout(p=0.2, inplace=False)\n",
       "      (layer_norm): LayerNorm((256,), eps=1e-05, elementwise_affine=True)\n",
       "      (dense2): Linear(in_features=256, out_features=20, bias=True)\n",
       "    )\n",
       "  )\n",
       ")"
      ]
     },
     "execution_count": 6,
     "metadata": {},
     "output_type": "execute_result"
    }
   ],
   "source": [
    "task = task.load_from_checkpoint(params.chkpt_file)\n",
    "task.eval()"
   ]
  },
  {
   "cell_type": "markdown",
   "id": "811bc798-2fa4-47de-9634-fcf4760a18b0",
   "metadata": {},
   "source": [
    "#### Initialize trainer object"
   ]
  },
  {
   "cell_type": "code",
   "execution_count": 7,
   "id": "7a4d1fc3-958a-45d9-9dfa-c985cf587c9c",
   "metadata": {},
   "outputs": [
    {
     "name": "stderr",
     "output_type": "stream",
     "text": [
      "GPU available: True (cuda), used: True\n",
      "TPU available: False, using: 0 TPU cores\n",
      "IPU available: False, using: 0 IPUs\n",
      "HPU available: False, using: 0 HPUs\n"
     ]
    }
   ],
   "source": [
    "trainer = Trainer(accelerator=\"cuda\", max_epochs=params.n_epoch)"
   ]
  },
  {
   "cell_type": "code",
   "execution_count": null,
   "id": "b7187573-3033-45a2-b54d-a1e7e3d288bd",
   "metadata": {},
   "outputs": [],
   "source": []
  },
  {
   "cell_type": "markdown",
   "id": "2e3168d9-2b9c-4aa4-9338-25c8df5a3bb5",
   "metadata": {},
   "source": [
    "### Usecase 1: initialize dataloader for a FASTA file"
   ]
  },
  {
   "cell_type": "code",
   "execution_count": 8,
   "id": "3f785d49-73ec-487e-bd40-207b5d361055",
   "metadata": {},
   "outputs": [],
   "source": [
    "dataloader = TestFASTALoader(params=params, collater=task.batch_converter)"
   ]
  },
  {
   "cell_type": "code",
   "execution_count": 9,
   "id": "56cb00e5-0000-42f8-8c17-272de232df3e",
   "metadata": {},
   "outputs": [
    {
     "name": "stderr",
     "output_type": "stream",
     "text": [
      "LOCAL_RANK: 0 - CUDA_VISIBLE_DEVICES: [0]\n"
     ]
    },
    {
     "name": "stdout",
     "output_type": "stream",
     "text": [
      "Predicting DataLoader 0: 100%|██████████| 1/1 [00:00<00:00,  1.03it/s]\n",
      "(25, 20)\n",
      "Size of predicted logits:  (25, 20)  number of proteins:  25\n"
     ]
    }
   ],
   "source": [
    "predictions = trainer.predict(model=task, dataloaders=[dataloader.test_dataloader()])\n",
    "predictions = aggregate_predictions(predictions)\n",
    "with open(format('%s/test_predictions_%s.pkl' % (params.output_dir,params.suffix)), 'wb') as fout:\n",
    "    pickle.dump(predictions, fout)\n"
   ]
  },
  {
   "cell_type": "code",
   "execution_count": null,
   "id": "7f2d4c8f-5cfb-4be3-a5f4-bbf5848fae34",
   "metadata": {},
   "outputs": [],
   "source": []
  },
  {
   "cell_type": "markdown",
   "id": "7156b98a-8d7f-4485-be57-631a4eeeaf92",
   "metadata": {
    "tags": []
   },
   "source": [
    "### Initialize dataloader for a CSV file with sequence and labels in it\n",
    "##### the CSV file needs to have at least these columns: PDBID,SEQUENCE,SYMM"
   ]
  },
  {
   "cell_type": "code",
   "execution_count": 10,
   "id": "f42dccd3-76ce-4449-b097-23bea8f430eb",
   "metadata": {},
   "outputs": [],
   "source": [
    "params.meta_data_file = '/tmp/metadata.csv'"
   ]
  },
  {
   "cell_type": "code",
   "execution_count": 11,
   "id": "30c132fd-74e6-4248-96c5-0af1c10d0791",
   "metadata": {},
   "outputs": [],
   "source": [
    "dataloader = TestSequencesLoader(params=params, collater=task.batch_converter)"
   ]
  },
  {
   "cell_type": "code",
   "execution_count": 12,
   "id": "fd8f9c42-39cc-49c6-89d7-4ba144bb7e0b",
   "metadata": {},
   "outputs": [
    {
     "name": "stderr",
     "output_type": "stream",
     "text": [
      "LOCAL_RANK: 0 - CUDA_VISIBLE_DEVICES: [0]\n"
     ]
    },
    {
     "name": "stdout",
     "output_type": "stream",
     "text": [
      "LazyFileLoader Reading:  /tmp/metadata.csv\n",
      "....with header: Index(['PDBID', 'DEPOSITION', 'RESOLUTION', 'HASH', 'CLUSTER', 'SEQUENCE',\n",
      "       'SYMM'],\n",
      "      dtype='object')  and length: 99\n",
      "Predicting DataLoader 0: 100%|██████████| 2/2 [00:01<00:00,  1.90it/s]\n",
      "(99, 20)\n",
      "Size of predicted logits:  (99, 20)  number of proteins:  99\n"
     ]
    }
   ],
   "source": [
    "predictions = trainer.predict(model=task, dataloaders=[dataloader.test_dataloader()])\n",
    "predictions = aggregate_predictions(predictions)\n",
    "with open(format('%s/test_predictions_%s.pkl' % (params.output_dir,params.suffix)), 'wb') as fout:\n",
    "    pickle.dump(predictions, fout)\n"
   ]
  },
  {
   "cell_type": "code",
   "execution_count": 13,
   "id": "1c1ba4ee-73bd-4490-91d3-fca4d4bc09eb",
   "metadata": {},
   "outputs": [
    {
     "data": {
      "text/plain": [
       "dict_keys(['y_pred', 'y_true', 'pdbids'])"
      ]
     },
     "execution_count": 13,
     "metadata": {},
     "output_type": "execute_result"
    }
   ],
   "source": [
    "predictions.keys()"
   ]
  },
  {
   "cell_type": "code",
   "execution_count": null,
   "id": "81ef127d-de51-4fc7-abb5-1336caed6987",
   "metadata": {},
   "outputs": [],
   "source": []
  }
 ],
 "metadata": {
  "kernelspec": {
   "display_name": "RF2lightning",
   "language": "python",
   "name": "rf2lightning"
  },
  "language_info": {
   "codemirror_mode": {
    "name": "ipython",
    "version": 3
   },
   "file_extension": ".py",
   "mimetype": "text/x-python",
   "name": "python",
   "nbconvert_exporter": "python",
   "pygments_lexer": "ipython3",
   "version": "3.8.16"
  }
 },
 "nbformat": 4,
 "nbformat_minor": 5
}
